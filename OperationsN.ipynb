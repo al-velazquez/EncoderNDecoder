{
 "cells": [
  {
   "cell_type": "code",
   "execution_count": 1,
   "id": "480c14db",
   "metadata": {},
   "outputs": [],
   "source": [
    "import torch\n",
    "from AttentionClass import EncoderSelfAttn as encoder\n",
    "from data_generation.square_sequence import generate_sequences\n",
    "\n",
    "import torch.nn.functional as F\n",
    "from torch.nn import Sequential, Linear, ReLU\n",
    "import torch.nn as nn\n",
    "from torch_geometric.nn import NNConv, Set2Set\n"
   ]
  },
  {
   "cell_type": "code",
   "execution_count": 2,
   "id": "21e3da68",
   "metadata": {},
   "outputs": [],
   "source": [
    "#Creating data points (of squares) and their direction\n",
    "points, directions=generate_sequences(n=128, seed=13)"
   ]
  },
  {
   "cell_type": "code",
   "execution_count": 3,
   "id": "e4fa3ad7",
   "metadata": {},
   "outputs": [],
   "source": [
    "full_seq = (torch.tensor([[-1, -1], [-1, 1], [1, 1], [1, -1]]).float().view(1, 4, 2))\n",
    "source_seq = full_seq[:, :2]\n",
    "target_seq = full_seq[:, 2:]"
   ]
  },
  {
   "cell_type": "code",
   "execution_count": 4,
   "id": "42bcf23d",
   "metadata": {},
   "outputs": [
    {
     "data": {
      "text/plain": [
       "EncoderSelfAttn(\n",
       "  (self_attn_heads): MultiHeadAttention(\n",
       "    (linear_out): Linear(in_features=9, out_features=3, bias=True)\n",
       "    (attn_heads): ModuleList(\n",
       "      (0): Attention(\n",
       "        (linear_query): Linear(in_features=2, out_features=3, bias=True)\n",
       "        (linear_keys): Linear(in_features=2, out_features=3, bias=True)\n",
       "        (linear_value): Linear(in_features=2, out_features=3, bias=True)\n",
       "      )\n",
       "      (1): Attention(\n",
       "        (linear_query): Linear(in_features=2, out_features=3, bias=True)\n",
       "        (linear_keys): Linear(in_features=2, out_features=3, bias=True)\n",
       "        (linear_value): Linear(in_features=2, out_features=3, bias=True)\n",
       "      )\n",
       "      (2): Attention(\n",
       "        (linear_query): Linear(in_features=2, out_features=3, bias=True)\n",
       "        (linear_keys): Linear(in_features=2, out_features=3, bias=True)\n",
       "        (linear_value): Linear(in_features=2, out_features=3, bias=True)\n",
       "      )\n",
       "    )\n",
       "  )\n",
       "  (ffn): Sequential(\n",
       "    (0): Linear(in_features=3, out_features=10, bias=True)\n",
       "    (1): ReLU()\n",
       "    (2): Linear(in_features=10, out_features=3, bias=True)\n",
       "  )\n",
       ")"
      ]
     },
     "execution_count": 4,
     "metadata": {},
     "output_type": "execute_result"
    }
   ],
   "source": [
    "torch.manual_seed(11)\n",
    "encself=encoder(n_heads=3, d_model=3,ff_units=10, n_features=2)\n",
    "encself"
   ]
  },
  {
   "cell_type": "code",
   "execution_count": 5,
   "id": "e370c835",
   "metadata": {},
   "outputs": [
    {
     "data": {
      "text/plain": [
       "(tensor([[[-1., -1.],\n",
       "          [-1.,  1.]]]),\n",
       " torch.Size([1, 2, 2]))"
      ]
     },
     "execution_count": 5,
     "metadata": {},
     "output_type": "execute_result"
    }
   ],
   "source": [
    "query=source_seq\n",
    "source_seq, source_seq.size()"
   ]
  },
  {
   "cell_type": "code",
   "execution_count": 6,
   "id": "d0abd077",
   "metadata": {},
   "outputs": [
    {
     "data": {
      "text/plain": [
       "(tensor([[[ 0.5648, -0.3156,  0.3997],\n",
       "          [ 0.6179, -0.3191,  0.4463]]], grad_fn=<AddBackward0>),\n",
       " torch.Size([1, 2, 3]))"
      ]
     },
     "execution_count": 6,
     "metadata": {},
     "output_type": "execute_result"
    }
   ],
   "source": [
    "encoder_states=encself(query)\n",
    "encoder_states, encoder_states.size()"
   ]
  },
  {
   "cell_type": "code",
   "execution_count": 7,
   "id": "aff0ec1a",
   "metadata": {},
   "outputs": [
    {
     "data": {
      "text/plain": [
       "torch.Size([37, 11])"
      ]
     },
     "execution_count": 7,
     "metadata": {},
     "output_type": "execute_result"
    }
   ],
   "source": [
    "x=torch.load(\"tensor_x.pt\", map_location=torch.device(\"cpu\"))\n",
    "x.size()"
   ]
  },
  {
   "cell_type": "code",
   "execution_count": 8,
   "id": "cb533fd2",
   "metadata": {},
   "outputs": [],
   "source": [
    "lin0=Linear(11, 64)\n",
    "nn=Sequential(Linear(5,64), ReLU(), Linear(64, 64*64))\n",
    "conv=NNConv(64, 64, nn, aggr=\"mean\")"
   ]
  },
  {
   "cell_type": "code",
   "execution_count": 9,
   "id": "485136f5",
   "metadata": {},
   "outputs": [
    {
     "data": {
      "text/plain": [
       "torch.Size([37, 64])"
      ]
     },
     "execution_count": 9,
     "metadata": {},
     "output_type": "execute_result"
    }
   ],
   "source": [
    "#el buen forward\n",
    "out=F.relu(lin0(x))\n",
    "out.size()"
   ]
  },
  {
   "cell_type": "code",
   "execution_count": 10,
   "id": "f9e95e40",
   "metadata": {},
   "outputs": [],
   "source": [
    "#se necesita edge_index y edge_attr \n",
    "edge_index=torch.load(\"tensor_edgeindex.pt\", map_location=torch.device(\"cpu\"))\n",
    "edge_attr=torch.load(\"tensor_edgeattr.pt\", map_location=torch.device(\"cpu\"))"
   ]
  },
  {
   "cell_type": "code",
   "execution_count": 11,
   "id": "a3e09768",
   "metadata": {},
   "outputs": [
    {
     "data": {
      "text/plain": [
       "torch.Size([37, 64])"
      ]
     },
     "execution_count": 11,
     "metadata": {},
     "output_type": "execute_result"
    }
   ],
   "source": [
    "m=conv(out, edge_index, edge_attr)\n",
    "m.size()"
   ]
  },
  {
   "cell_type": "code",
   "execution_count": null,
   "id": "00ae46dd",
   "metadata": {},
   "outputs": [],
   "source": []
  },
  {
   "cell_type": "code",
   "execution_count": 12,
   "id": "01bd5f24",
   "metadata": {},
   "outputs": [],
   "source": [
    "batch=torch.load(\"tensor_batch.pt\", map_location=torch.device(\"cpu\"))"
   ]
  },
  {
   "cell_type": "code",
   "execution_count": 13,
   "id": "09b5ee7d",
   "metadata": {},
   "outputs": [
    {
     "data": {
      "text/plain": [
       "tensor([0, 0, 0, 0, 0, 1, 1, 1, 1, 2, 2, 2, 3, 3, 3, 3, 4, 4, 4, 5, 5, 5, 5, 6,\n",
       "        6, 6, 6, 6, 6, 6, 6, 7, 7, 7, 7, 7, 7])"
      ]
     },
     "execution_count": 13,
     "metadata": {},
     "output_type": "execute_result"
    }
   ],
   "source": [
    "batch"
   ]
  },
  {
   "cell_type": "code",
   "execution_count": 14,
   "id": "068c82f9",
   "metadata": {},
   "outputs": [],
   "source": [
    "\n",
    "\n",
    "def batch_sequences_features(x, batch):\n",
    "    def contador(batch):\n",
    "        diccionario={}\n",
    "        for i in batch:\n",
    "            if i.item() not in diccionario:\n",
    "                diccionario[i.item()]=1\n",
    "            else:\n",
    "                diccionario[i.item()]+=1\n",
    "        return diccionario\n",
    "\n",
    "    N_first=[]\n",
    "    l_inf=0\n",
    "    l_sup=0\n",
    "    dictionary=contador(batch)\n",
    "    for i in dictionary:\n",
    "        l_sup=l_sup+dictionary[i]\n",
    "        N_first.append(x[l_inf:l_sup])\n",
    "        l_inf=l_sup\n",
    "    return N_first\n",
    "    \n",
    "    "
   ]
  },
  {
   "cell_type": "code",
   "execution_count": 15,
   "id": "bc923c3e",
   "metadata": {},
   "outputs": [
    {
     "data": {
      "text/plain": [
       "torch.Size([8, 64])"
      ]
     },
     "execution_count": 15,
     "metadata": {},
     "output_type": "execute_result"
    }
   ],
   "source": [
    "new=batch_sequences_features(m, batch)\n",
    "new[6].size()"
   ]
  },
  {
   "cell_type": "code",
   "execution_count": 20,
   "id": "9aea50bb",
   "metadata": {},
   "outputs": [],
   "source": [
    "from torch.nn.utils.rnn import pad_sequence\n",
    "\n",
    "padded=pad_sequence(new, batch_first=True)"
   ]
  },
  {
   "cell_type": "code",
   "execution_count": 17,
   "id": "8c023b45",
   "metadata": {},
   "outputs": [
    {
     "data": {
      "text/plain": [
       "(tensor([[[-1.7508e-01, -4.4356e-02, -1.3807e-01,  ...,  3.4600e-01,\n",
       "            2.3789e-01,  7.6430e-02],\n",
       "          [-3.8973e-01, -2.6293e-01, -7.5908e-01,  ..., -2.1574e-01,\n",
       "           -8.2913e-02,  8.6494e-02],\n",
       "          [-3.8973e-01, -2.6293e-01, -7.5909e-01,  ..., -2.1574e-01,\n",
       "           -8.2914e-02,  8.6497e-02],\n",
       "          ...,\n",
       "          [ 0.0000e+00,  0.0000e+00,  0.0000e+00,  ...,  0.0000e+00,\n",
       "            0.0000e+00,  0.0000e+00],\n",
       "          [ 0.0000e+00,  0.0000e+00,  0.0000e+00,  ...,  0.0000e+00,\n",
       "            0.0000e+00,  0.0000e+00],\n",
       "          [ 0.0000e+00,  0.0000e+00,  0.0000e+00,  ...,  0.0000e+00,\n",
       "            0.0000e+00,  0.0000e+00]],\n",
       " \n",
       "         [[ 1.2318e-03, -1.5029e-01, -1.9601e-01,  ...,  3.3872e-01,\n",
       "            3.9834e-01,  2.3667e-02],\n",
       "          [-3.2007e-01, -4.0774e-01, -7.3526e-01,  ..., -1.4851e-01,\n",
       "           -1.6814e-01,  2.3146e-01],\n",
       "          [-3.2005e-01, -4.0775e-01, -7.3522e-01,  ..., -1.4851e-01,\n",
       "           -1.6813e-01,  2.3144e-01],\n",
       "          ...,\n",
       "          [ 0.0000e+00,  0.0000e+00,  0.0000e+00,  ...,  0.0000e+00,\n",
       "            0.0000e+00,  0.0000e+00],\n",
       "          [ 0.0000e+00,  0.0000e+00,  0.0000e+00,  ...,  0.0000e+00,\n",
       "            0.0000e+00,  0.0000e+00],\n",
       "          [ 0.0000e+00,  0.0000e+00,  0.0000e+00,  ...,  0.0000e+00,\n",
       "            0.0000e+00,  0.0000e+00]],\n",
       " \n",
       "         [[-6.0175e-02, -1.6144e-01, -1.8723e-01,  ...,  6.3151e-01,\n",
       "            5.0785e-01, -6.1921e-03],\n",
       "          [-2.7756e-01, -6.2861e-01, -8.8797e-01,  ..., -6.3701e-02,\n",
       "           -4.4167e-01,  5.2838e-01],\n",
       "          [-2.7760e-01, -6.2862e-01, -8.8805e-01,  ..., -6.3710e-02,\n",
       "           -4.4172e-01,  5.2843e-01],\n",
       "          ...,\n",
       "          [ 0.0000e+00,  0.0000e+00,  0.0000e+00,  ...,  0.0000e+00,\n",
       "            0.0000e+00,  0.0000e+00],\n",
       "          [ 0.0000e+00,  0.0000e+00,  0.0000e+00,  ...,  0.0000e+00,\n",
       "            0.0000e+00,  0.0000e+00],\n",
       "          [ 0.0000e+00,  0.0000e+00,  0.0000e+00,  ...,  0.0000e+00,\n",
       "            0.0000e+00,  0.0000e+00]],\n",
       " \n",
       "         ...,\n",
       " \n",
       "         [[ 1.5369e-01, -4.1134e-01, -1.1082e+00,  ...,  3.0087e-01,\n",
       "            4.2547e-01,  6.3438e-01],\n",
       "          [ 1.1461e-01, -4.1543e-01, -1.2276e+00,  ...,  2.9278e-01,\n",
       "            8.5098e-01,  9.1691e-02],\n",
       "          [-2.0609e-01, -6.3668e-01, -1.6800e+00,  ..., -3.1375e-01,\n",
       "           -5.0179e-01,  1.0841e+00],\n",
       "          ...,\n",
       "          [ 0.0000e+00,  0.0000e+00,  0.0000e+00,  ...,  0.0000e+00,\n",
       "            0.0000e+00,  0.0000e+00],\n",
       "          [ 0.0000e+00,  0.0000e+00,  0.0000e+00,  ...,  0.0000e+00,\n",
       "            0.0000e+00,  0.0000e+00],\n",
       "          [ 0.0000e+00,  0.0000e+00,  0.0000e+00,  ...,  0.0000e+00,\n",
       "            0.0000e+00,  0.0000e+00]],\n",
       " \n",
       "         [[-2.4621e-01, -2.2425e-01, -5.4022e-01,  ...,  2.2374e-01,\n",
       "            1.9020e-01,  1.6783e-01],\n",
       "          [-2.4621e-01, -2.2425e-01, -5.4022e-01,  ...,  2.2374e-01,\n",
       "            1.9020e-01,  1.6783e-01],\n",
       "          [-4.5793e-01, -3.6107e-01, -1.1808e+00,  ..., -3.1060e-01,\n",
       "           -3.9242e-02,  1.8746e-01],\n",
       "          ...,\n",
       "          [-4.5793e-01, -3.6107e-01, -1.1808e+00,  ..., -3.1060e-01,\n",
       "           -3.9240e-02,  1.8746e-01],\n",
       "          [-4.5793e-01, -3.6107e-01, -1.1808e+00,  ..., -3.1060e-01,\n",
       "           -3.9242e-02,  1.8746e-01],\n",
       "          [-4.5794e-01, -3.6107e-01, -1.1808e+00,  ..., -3.1061e-01,\n",
       "           -3.9246e-02,  1.8747e-01]],\n",
       " \n",
       "         [[-2.0490e-01, -3.4836e-01, -5.6340e-01,  ...,  3.0284e-01,\n",
       "            1.0780e-02,  4.1951e-01],\n",
       "          [-1.7168e-01, -3.1451e-01, -6.7304e-01,  ...,  4.0213e-01,\n",
       "            4.4062e-01,  3.3766e-02],\n",
       "          [-3.3454e-01, -4.4607e-01, -1.3155e+00,  ..., -2.9228e-01,\n",
       "           -2.5930e-01,  5.7700e-01],\n",
       "          ...,\n",
       "          [-4.2215e-01, -5.4510e-01, -1.2976e+00,  ..., -3.0137e-01,\n",
       "           -1.4186e-01,  3.7195e-01],\n",
       "          [ 0.0000e+00,  0.0000e+00,  0.0000e+00,  ...,  0.0000e+00,\n",
       "            0.0000e+00,  0.0000e+00],\n",
       "          [ 0.0000e+00,  0.0000e+00,  0.0000e+00,  ...,  0.0000e+00,\n",
       "            0.0000e+00,  0.0000e+00]]], grad_fn=<CopySlices>),\n",
       " torch.Size([8, 8, 64]))"
      ]
     },
     "execution_count": 17,
     "metadata": {},
     "output_type": "execute_result"
    }
   ],
   "source": [
    "padded, padded.size()"
   ]
  },
  {
   "cell_type": "code",
   "execution_count": 21,
   "id": "7cfbc9af",
   "metadata": {},
   "outputs": [],
   "source": [
    "source_mask=(padded!=0).all(axis=2).unsqueeze(1)"
   ]
  },
  {
   "cell_type": "code",
   "execution_count": 19,
   "id": "8f5505e8",
   "metadata": {},
   "outputs": [
    {
     "data": {
      "text/plain": [
       "(tensor([[[ True,  True,  True,  True,  True, False, False, False]],\n",
       " \n",
       "         [[ True,  True,  True,  True, False, False, False, False]],\n",
       " \n",
       "         [[ True,  True,  True, False, False, False, False, False]],\n",
       " \n",
       "         [[ True,  True,  True,  True, False, False, False, False]],\n",
       " \n",
       "         [[ True,  True,  True, False, False, False, False, False]],\n",
       " \n",
       "         [[ True,  True,  True,  True, False, False, False, False]],\n",
       " \n",
       "         [[ True,  True,  True,  True,  True,  True,  True,  True]],\n",
       " \n",
       "         [[ True,  True,  True,  True,  True,  True, False, False]]]),\n",
       " torch.Size([8, 1, 8]))"
      ]
     },
     "execution_count": 19,
     "metadata": {},
     "output_type": "execute_result"
    }
   ],
   "source": [
    "source_mask, source_mask.size()"
   ]
  },
  {
   "cell_type": "code",
   "execution_count": 20,
   "id": "5f5883d6",
   "metadata": {},
   "outputs": [],
   "source": [
    "enc=encoder(n_heads=3, d_model=64, ff_units=10, n_features=64)\n"
   ]
  },
  {
   "cell_type": "code",
   "execution_count": 19,
   "id": "29a52b0d",
   "metadata": {},
   "outputs": [
    {
     "ename": "NameError",
     "evalue": "name 'padded' is not defined",
     "output_type": "error",
     "traceback": [
      "\u001b[0;31m---------------------------------------------------------------------------\u001b[0m",
      "\u001b[0;31mNameError\u001b[0m                                 Traceback (most recent call last)",
      "\u001b[0;32m<ipython-input-19-3c9bd359d953>\u001b[0m in \u001b[0;36m<module>\u001b[0;34m\u001b[0m\n\u001b[0;32m----> 1\u001b[0;31m \u001b[0mquery\u001b[0m\u001b[0;34m=\u001b[0m\u001b[0mpadded\u001b[0m\u001b[0;34m\u001b[0m\u001b[0;34m\u001b[0m\u001b[0m\n\u001b[0m\u001b[1;32m      2\u001b[0m \u001b[0mencoder_states\u001b[0m\u001b[0;34m=\u001b[0m\u001b[0menc\u001b[0m\u001b[0;34m(\u001b[0m\u001b[0mquery\u001b[0m\u001b[0;34m,\u001b[0m \u001b[0msource_mask\u001b[0m\u001b[0;34m)\u001b[0m\u001b[0;34m\u001b[0m\u001b[0;34m\u001b[0m\u001b[0m\n",
      "\u001b[0;31mNameError\u001b[0m: name 'padded' is not defined"
     ]
    }
   ],
   "source": [
    "query=padded\n",
    "encoder_states=enc(query, source_mask)"
   ]
  },
  {
   "cell_type": "code",
   "execution_count": 20,
   "id": "8fbc13cc",
   "metadata": {},
   "outputs": [
    {
     "data": {
      "text/plain": [
       "torch.Size([1, 2, 3])"
      ]
     },
     "execution_count": 20,
     "metadata": {},
     "output_type": "execute_result"
    }
   ],
   "source": [
    "encoder_states.size()"
   ]
  },
  {
   "cell_type": "code",
   "execution_count": 23,
   "id": "c838191d",
   "metadata": {},
   "outputs": [],
   "source": [
    "t1=torch.tensor([0,1,2,3,4,5,6,7,8,9])\n",
    "boolean=torch.tensor([1,1,1,1,1,0,0,0,0,0])"
   ]
  },
  {
   "cell_type": "code",
   "execution_count": 24,
   "id": "b918c472",
   "metadata": {},
   "outputs": [
    {
     "data": {
      "text/plain": [
       "[True, True, True, True, True, False, False, False, False, False]"
      ]
     },
     "execution_count": 24,
     "metadata": {},
     "output_type": "execute_result"
    }
   ],
   "source": [
    "boolean=[1==i.item() for i in boolean]\n",
    "boolean"
   ]
  },
  {
   "cell_type": "code",
   "execution_count": 25,
   "id": "e4e1f25c",
   "metadata": {},
   "outputs": [],
   "source": [
    "#funciona\n",
    "recuperando=[]\n",
    "for i in range(len(t1)):\n",
    "    if boolean[i] ==True:\n",
    "        recuperando.append(t1[i].item())\n",
    "    else:\n",
    "        break"
   ]
  },
  {
   "cell_type": "code",
   "execution_count": 26,
   "id": "7090ce51",
   "metadata": {},
   "outputs": [
    {
     "data": {
      "text/plain": [
       "[0, 1, 2, 3, 4]"
      ]
     },
     "execution_count": 26,
     "metadata": {},
     "output_type": "execute_result"
    }
   ],
   "source": [
    "recuperando"
   ]
  },
  {
   "cell_type": "code",
   "execution_count": 18,
   "id": "71d65bab",
   "metadata": {},
   "outputs": [
    {
     "data": {
      "text/plain": [
       "tensor([[[ 0.5648, -0.3156,  0.3997],\n",
       "         [ 0.6179, -0.3191,  0.4463]]], grad_fn=<AddBackward0>)"
      ]
     },
     "execution_count": 18,
     "metadata": {},
     "output_type": "execute_result"
    }
   ],
   "source": [
    "encoder_states"
   ]
  },
  {
   "cell_type": "code",
   "execution_count": 28,
   "id": "7b567886",
   "metadata": {},
   "outputs": [
    {
     "data": {
      "text/plain": [
       "64"
      ]
     },
     "execution_count": 28,
     "metadata": {},
     "output_type": "execute_result"
    }
   ],
   "source": [
    "encoder_states.size()[2]"
   ]
  },
  {
   "cell_type": "code",
   "execution_count": 29,
   "id": "87a33219",
   "metadata": {},
   "outputs": [],
   "source": [
    "for i in range(encoder_states.size()[0]):\n",
    "    for j in range(encoder_states.size()[1]):\n",
    "        pass"
   ]
  },
  {
   "cell_type": "code",
   "execution_count": 30,
   "id": "6407c1d2",
   "metadata": {},
   "outputs": [
    {
     "data": {
      "text/plain": [
       "True"
      ]
     },
     "execution_count": 30,
     "metadata": {},
     "output_type": "execute_result"
    }
   ],
   "source": [
    "source_mask[2][0][1].item()"
   ]
  },
  {
   "cell_type": "code",
   "execution_count": 31,
   "id": "f8696a57",
   "metadata": {},
   "outputs": [
    {
     "data": {
      "text/plain": [
       "tensor([ 0.1000,  0.0723, -0.0861, -0.2734,  0.2067, -0.2045,  0.2032, -0.2602,\n",
       "        -0.1351, -0.0769,  0.2075, -0.2780,  0.2169,  0.1598,  0.0793,  0.2469,\n",
       "        -0.3396, -0.0592,  0.2631, -0.2307, -0.2434, -0.1342, -0.1158, -0.2142,\n",
       "         0.1749, -0.2383,  0.0433,  0.1051, -0.2272, -0.0422, -0.1591, -0.1499,\n",
       "        -0.0032,  0.1410, -0.0778, -0.1098,  0.3626, -0.3343, -0.1475, -0.2934,\n",
       "        -0.1260, -0.2685, -0.0698, -0.2012, -0.2344, -0.2556,  0.1946,  0.0303,\n",
       "        -0.0981, -0.2796, -0.2141,  0.0466, -0.2246,  0.0156,  0.0392, -0.1657,\n",
       "        -0.0387,  0.2308, -0.1283,  0.0058,  0.1963, -0.2459,  0.0154,  0.1605],\n",
       "       grad_fn=<SelectBackward>)"
      ]
     },
     "execution_count": 31,
     "metadata": {},
     "output_type": "execute_result"
    }
   ],
   "source": [
    "encoder_states[0][0]"
   ]
  },
  {
   "cell_type": "code",
   "execution_count": 39,
   "id": "e48e3321",
   "metadata": {},
   "outputs": [
    {
     "ename": "NameError",
     "evalue": "name 'source_mask' is not defined",
     "output_type": "error",
     "traceback": [
      "\u001b[0;31m---------------------------------------------------------------------------\u001b[0m",
      "\u001b[0;31mNameError\u001b[0m                                 Traceback (most recent call last)",
      "\u001b[0;32m<ipython-input-39-169017f37134>\u001b[0m in \u001b[0;36m<module>\u001b[0;34m\u001b[0m\n\u001b[1;32m      2\u001b[0m \u001b[0;32mfor\u001b[0m \u001b[0mi\u001b[0m \u001b[0;32min\u001b[0m \u001b[0mrange\u001b[0m\u001b[0;34m(\u001b[0m\u001b[0mencoder_states\u001b[0m\u001b[0;34m.\u001b[0m\u001b[0msize\u001b[0m\u001b[0;34m(\u001b[0m\u001b[0;34m)\u001b[0m\u001b[0;34m[\u001b[0m\u001b[0;36m0\u001b[0m\u001b[0;34m]\u001b[0m\u001b[0;34m)\u001b[0m\u001b[0;34m:\u001b[0m\u001b[0;34m\u001b[0m\u001b[0;34m\u001b[0m\u001b[0m\n\u001b[1;32m      3\u001b[0m     \u001b[0;32mfor\u001b[0m \u001b[0mj\u001b[0m \u001b[0;32min\u001b[0m \u001b[0mrange\u001b[0m\u001b[0;34m(\u001b[0m\u001b[0mencoder_states\u001b[0m\u001b[0;34m.\u001b[0m\u001b[0msize\u001b[0m\u001b[0;34m(\u001b[0m\u001b[0;34m)\u001b[0m\u001b[0;34m[\u001b[0m\u001b[0;36m1\u001b[0m\u001b[0;34m]\u001b[0m\u001b[0;34m)\u001b[0m\u001b[0;34m:\u001b[0m\u001b[0;34m\u001b[0m\u001b[0;34m\u001b[0m\u001b[0m\n\u001b[0;32m----> 4\u001b[0;31m         \u001b[0;32mif\u001b[0m \u001b[0msource_mask\u001b[0m\u001b[0;34m[\u001b[0m\u001b[0mi\u001b[0m\u001b[0;34m]\u001b[0m\u001b[0;34m[\u001b[0m\u001b[0;36m0\u001b[0m\u001b[0;34m]\u001b[0m\u001b[0;34m[\u001b[0m\u001b[0mj\u001b[0m\u001b[0;34m]\u001b[0m\u001b[0;34m==\u001b[0m\u001b[0;32mTrue\u001b[0m\u001b[0;34m:\u001b[0m\u001b[0;34m\u001b[0m\u001b[0;34m\u001b[0m\u001b[0m\n\u001b[0m\u001b[1;32m      5\u001b[0m             \u001b[0mget_back\u001b[0m\u001b[0;34m.\u001b[0m\u001b[0mappend\u001b[0m\u001b[0;34m(\u001b[0m\u001b[0mtorch\u001b[0m\u001b[0;34m.\u001b[0m\u001b[0mas_tensor\u001b[0m\u001b[0;34m(\u001b[0m\u001b[0mencoder_states\u001b[0m\u001b[0;34m[\u001b[0m\u001b[0mi\u001b[0m\u001b[0;34m]\u001b[0m\u001b[0;34m[\u001b[0m\u001b[0mj\u001b[0m\u001b[0;34m]\u001b[0m\u001b[0;34m)\u001b[0m\u001b[0;34m.\u001b[0m\u001b[0mfloat\u001b[0m\u001b[0;34m(\u001b[0m\u001b[0;34m)\u001b[0m\u001b[0;34m)\u001b[0m\u001b[0;34m\u001b[0m\u001b[0;34m\u001b[0m\u001b[0m\n\u001b[1;32m      6\u001b[0m         \u001b[0;32melse\u001b[0m\u001b[0;34m:\u001b[0m\u001b[0;34m\u001b[0m\u001b[0;34m\u001b[0m\u001b[0m\n",
      "\u001b[0;31mNameError\u001b[0m: name 'source_mask' is not defined"
     ]
    }
   ],
   "source": [
    "get_back=[]\n",
    "for i in range(encoder_states.size()[0]):\n",
    "    for j in range(encoder_states.size()[1]):\n",
    "        if source_mask[i][0][j]==True:\n",
    "            get_back.append(torch.as_tensor(encoder_states[i][j]).float())\n",
    "        else:\n",
    "            pass\n",
    "len(get_back)"
   ]
  },
  {
   "cell_type": "code",
   "execution_count": 41,
   "id": "b15fb023",
   "metadata": {},
   "outputs": [
    {
     "data": {
      "text/plain": [
       "tensor([[[ True,  True,  True,  True,  True, False, False, False]],\n",
       "\n",
       "        [[ True,  True,  True,  True, False, False, False, False]],\n",
       "\n",
       "        [[ True,  True,  True, False, False, False, False, False]],\n",
       "\n",
       "        [[ True,  True,  True,  True, False, False, False, False]],\n",
       "\n",
       "        [[ True,  True,  True, False, False, False, False, False]],\n",
       "\n",
       "        [[ True,  True,  True,  True, False, False, False, False]],\n",
       "\n",
       "        [[ True,  True,  True,  True,  True,  True,  True,  True]],\n",
       "\n",
       "        [[ True,  True,  True,  True,  True,  True, False, False]]])"
      ]
     },
     "execution_count": 41,
     "metadata": {},
     "output_type": "execute_result"
    }
   ],
   "source": [
    "mask"
   ]
  },
  {
   "cell_type": "code",
   "execution_count": 34,
   "id": "004e1eac",
   "metadata": {},
   "outputs": [],
   "source": [
    "my_tensor=torch.cat([get_back[0].unsqueeze(0),get_back[1].unsqueeze(0), get_back[2].unsqueeze(0)], dim=0)"
   ]
  },
  {
   "cell_type": "code",
   "execution_count": 35,
   "id": "8a967182",
   "metadata": {},
   "outputs": [
    {
     "data": {
      "text/plain": [
       "torch.Size([3, 64])"
      ]
     },
     "execution_count": 35,
     "metadata": {},
     "output_type": "execute_result"
    }
   ],
   "source": [
    "my_tensor.size()"
   ]
  },
  {
   "cell_type": "code",
   "execution_count": 36,
   "id": "ee547b69",
   "metadata": {},
   "outputs": [],
   "source": [
    "my_tensor=torch.cat([get_back[i].unsqueeze(0) for i in range(len(get_back))], dim=0)"
   ]
  },
  {
   "cell_type": "code",
   "execution_count": 37,
   "id": "f795fde1",
   "metadata": {},
   "outputs": [
    {
     "data": {
      "text/plain": [
       "torch.Size([37, 64])"
      ]
     },
     "execution_count": 37,
     "metadata": {},
     "output_type": "execute_result"
    }
   ],
   "source": [
    "my_tensor.size()"
   ]
  },
  {
   "cell_type": "code",
   "execution_count": 21,
   "id": "3e147482",
   "metadata": {},
   "outputs": [],
   "source": [
    "from FullENcoder import EncoderSelfAttnL"
   ]
  },
  {
   "cell_type": "code",
   "execution_count": 22,
   "id": "e5e56b1e",
   "metadata": {},
   "outputs": [],
   "source": [
    "#crear un encoder\n",
    "Encoder=EncoderSelfAttnL(n_heads=3, d_model=64, ff_units=10, n_features=64)"
   ]
  },
  {
   "cell_type": "code",
   "execution_count": 23,
   "id": "12152f54",
   "metadata": {},
   "outputs": [
    {
     "data": {
      "text/plain": [
       "[tensor([[-1.7508e-01, -4.4356e-02, -1.3807e-01,  4.4173e-01,  1.4721e-01,\n",
       "          -2.9860e-01, -6.1902e-02, -6.6204e-01, -2.7573e-01, -5.5273e-01,\n",
       "           5.2367e-01, -3.0145e-01, -2.8304e-02, -1.0538e-01,  2.3172e-01,\n",
       "           1.0384e-01,  9.2456e-01, -1.1666e-01,  3.8690e-02, -6.1394e-01,\n",
       "          -2.7539e-01, -5.4298e-01, -3.5077e-01, -3.8745e-01, -8.5473e-01,\n",
       "           6.0003e-02, -6.8451e-01,  5.8620e-01, -9.4079e-01,  2.5301e-01,\n",
       "           5.2283e-01, -4.3084e-01, -5.8201e-01, -3.3532e-01,  2.0599e-01,\n",
       "          -3.5850e-01,  6.1321e-01,  6.6185e-01,  4.5957e-02,  1.2202e+00,\n",
       "          -7.7793e-01,  6.1839e-01,  5.9122e-01, -1.4334e-01, -2.2483e-01,\n",
       "           5.5341e-02, -2.6994e-01, -5.8220e-01,  3.4837e-01,  3.8001e-01,\n",
       "          -7.4367e-02, -4.6490e-01,  1.9846e-04, -2.6238e-01,  2.1606e-01,\n",
       "          -2.1853e-01,  1.0127e-02,  3.7984e-01,  2.7198e-01, -1.2992e-01,\n",
       "          -4.2453e-01,  3.4600e-01,  2.3789e-01,  7.6430e-02],\n",
       "         [-3.8973e-01, -2.6293e-01, -7.5908e-01,  4.9846e-02, -1.1541e-01,\n",
       "          -7.1042e-01,  5.9822e-01, -2.7747e-01,  1.6374e-01,  2.2178e-01,\n",
       "           2.5204e-01,  1.5516e-01,  4.9388e-02,  2.1358e-01,  4.7466e-01,\n",
       "          -1.9945e-02,  3.7953e-02,  6.6889e-02,  3.2348e-01, -1.6308e-01,\n",
       "          -1.3205e-01,  3.4187e-01,  3.3019e-02, -2.2968e-01, -8.9409e-02,\n",
       "          -5.3423e-03, -5.2728e-01,  7.7852e-01, -8.0951e-01, -3.4217e-02,\n",
       "          -1.4173e-01,  3.9613e-01, -2.4000e-01, -7.0355e-02, -4.6682e-01,\n",
       "          -4.1595e-01,  4.0058e-01,  5.6293e-01,  4.2730e-01,  6.1465e-01,\n",
       "          -2.9950e-01,  4.2575e-01,  4.9993e-01, -2.1572e-01, -3.3385e-01,\n",
       "          -4.7251e-01, -4.2880e-01, -1.8988e-01,  2.2575e-01, -1.3983e-01,\n",
       "           6.5922e-02, -7.0709e-01, -7.0504e-02, -2.8312e-01, -7.9832e-02,\n",
       "           4.8142e-01,  3.2135e-01,  5.9599e-01,  6.2457e-01, -7.3035e-02,\n",
       "          -6.3934e-01, -2.1574e-01, -8.2913e-02,  8.6494e-02],\n",
       "         [-3.8973e-01, -2.6293e-01, -7.5909e-01,  4.9845e-02, -1.1541e-01,\n",
       "          -7.1043e-01,  5.9822e-01, -2.7747e-01,  1.6374e-01,  2.2178e-01,\n",
       "           2.5204e-01,  1.5516e-01,  4.9385e-02,  2.1359e-01,  4.7467e-01,\n",
       "          -1.9947e-02,  3.7951e-02,  6.6892e-02,  3.2348e-01, -1.6308e-01,\n",
       "          -1.3204e-01,  3.4187e-01,  3.3015e-02, -2.2968e-01, -8.9401e-02,\n",
       "          -5.3430e-03, -5.2727e-01,  7.7853e-01, -8.0952e-01, -3.4215e-02,\n",
       "          -1.4173e-01,  3.9614e-01, -2.4000e-01, -7.0353e-02, -4.6683e-01,\n",
       "          -4.1596e-01,  4.0058e-01,  5.6294e-01,  4.2730e-01,  6.1466e-01,\n",
       "          -2.9950e-01,  4.2575e-01,  4.9993e-01, -2.1572e-01, -3.3385e-01,\n",
       "          -4.7251e-01, -4.2881e-01, -1.8988e-01,  2.2576e-01, -1.3983e-01,\n",
       "           6.5921e-02, -7.0709e-01, -7.0504e-02, -2.8312e-01, -7.9831e-02,\n",
       "           4.8142e-01,  3.2135e-01,  5.9599e-01,  6.2458e-01, -7.3039e-02,\n",
       "          -6.3934e-01, -2.1574e-01, -8.2914e-02,  8.6497e-02],\n",
       "         [-3.8972e-01, -2.6293e-01, -7.5908e-01,  4.9847e-02, -1.1540e-01,\n",
       "          -7.1042e-01,  5.9821e-01, -2.7747e-01,  1.6374e-01,  2.2178e-01,\n",
       "           2.5204e-01,  1.5516e-01,  4.9391e-02,  2.1358e-01,  4.7465e-01,\n",
       "          -1.9943e-02,  3.7954e-02,  6.6887e-02,  3.2347e-01, -1.6308e-01,\n",
       "          -1.3205e-01,  3.4187e-01,  3.3024e-02, -2.2968e-01, -8.9416e-02,\n",
       "          -5.3414e-03, -5.2728e-01,  7.7851e-01, -8.0951e-01, -3.4219e-02,\n",
       "          -1.4173e-01,  3.9613e-01, -2.4000e-01, -7.0358e-02, -4.6681e-01,\n",
       "          -4.1595e-01,  4.0058e-01,  5.6293e-01,  4.2729e-01,  6.1465e-01,\n",
       "          -2.9950e-01,  4.2575e-01,  4.9993e-01, -2.1572e-01, -3.3385e-01,\n",
       "          -4.7251e-01, -4.2880e-01, -1.8989e-01,  2.2575e-01, -1.3983e-01,\n",
       "           6.5923e-02, -7.0709e-01, -7.0504e-02, -2.8312e-01, -7.9833e-02,\n",
       "           4.8141e-01,  3.2135e-01,  5.9598e-01,  6.2457e-01, -7.3031e-02,\n",
       "          -6.3934e-01, -2.1574e-01, -8.2913e-02,  8.6491e-02],\n",
       "         [-3.8973e-01, -2.6293e-01, -7.5909e-01,  4.9845e-02, -1.1541e-01,\n",
       "          -7.1043e-01,  5.9822e-01, -2.7747e-01,  1.6374e-01,  2.2178e-01,\n",
       "           2.5204e-01,  1.5516e-01,  4.9386e-02,  2.1359e-01,  4.7467e-01,\n",
       "          -1.9947e-02,  3.7951e-02,  6.6892e-02,  3.2348e-01, -1.6308e-01,\n",
       "          -1.3205e-01,  3.4187e-01,  3.3017e-02, -2.2968e-01, -8.9404e-02,\n",
       "          -5.3425e-03, -5.2728e-01,  7.7853e-01, -8.0952e-01, -3.4215e-02,\n",
       "          -1.4173e-01,  3.9613e-01, -2.4000e-01, -7.0354e-02, -4.6682e-01,\n",
       "          -4.1596e-01,  4.0058e-01,  5.6294e-01,  4.2730e-01,  6.1466e-01,\n",
       "          -2.9950e-01,  4.2575e-01,  4.9993e-01, -2.1572e-01, -3.3385e-01,\n",
       "          -4.7251e-01, -4.2881e-01, -1.8988e-01,  2.2576e-01, -1.3983e-01,\n",
       "           6.5922e-02, -7.0709e-01, -7.0504e-02, -2.8312e-01, -7.9832e-02,\n",
       "           4.8142e-01,  3.2135e-01,  5.9599e-01,  6.2457e-01, -7.3038e-02,\n",
       "          -6.3934e-01, -2.1574e-01, -8.2914e-02,  8.6496e-02]],\n",
       "        grad_fn=<SliceBackward>),\n",
       " tensor([[ 0.0012, -0.1503, -0.1960,  0.1626,  0.0816, -0.3300,  0.0595, -0.5442,\n",
       "          -0.1623, -0.6763,  0.5387, -0.2304, -0.0497,  0.0569,  0.2424,  0.0983,\n",
       "           0.9684, -0.1972,  0.2463, -0.3558, -0.2391, -0.7357, -0.2897, -0.3902,\n",
       "          -0.8797, -0.0701, -0.4799,  0.7284, -0.9286,  0.2876,  0.8023, -0.4600,\n",
       "          -0.6397, -0.3352,  0.3287, -0.1834,  0.6433,  0.4826, -0.1477,  1.1775,\n",
       "          -0.9672,  0.5621,  0.5140, -0.1818, -0.1460,  0.0965, -0.2685, -0.6426,\n",
       "           0.5141,  0.3347, -0.0216, -0.4082,  0.1071, -0.4729,  0.2078, -0.1568,\n",
       "           0.0695,  0.2591,  0.0212, -0.2071, -0.4589,  0.3387,  0.3983,  0.0237],\n",
       "         [-0.3201, -0.4077, -0.7353,  0.0162, -0.0779, -0.6779,  0.5951, -0.3134,\n",
       "           0.2473,  0.1750,  0.3274,  0.1828,  0.0817,  0.2562,  0.5543,  0.0097,\n",
       "           0.0569,  0.0370,  0.3446, -0.0145,  0.0875,  0.2173, -0.0862, -0.1718,\n",
       "          -0.0256,  0.0200, -0.6259,  0.9009, -0.7606, -0.1396, -0.2330,  0.5279,\n",
       "          -0.1031,  0.0723, -0.4014, -0.4414,  0.3841,  0.7142,  0.5647,  0.7406,\n",
       "          -0.4087,  0.5378,  0.6338, -0.1180, -0.2565, -0.5388, -0.3858, -0.2164,\n",
       "           0.1749, -0.1885,  0.3522, -0.7463, -0.0220, -0.3722, -0.0482,  0.3481,\n",
       "           0.3560,  0.4149,  0.4798, -0.1230, -0.6792, -0.1485, -0.1681,  0.2315],\n",
       "         [-0.3201, -0.4077, -0.7352,  0.0162, -0.0778, -0.6779,  0.5950, -0.3134,\n",
       "           0.2473,  0.1750,  0.3274,  0.1828,  0.0817,  0.2562,  0.5543,  0.0097,\n",
       "           0.0569,  0.0370,  0.3446, -0.0145,  0.0875,  0.2173, -0.0862, -0.1718,\n",
       "          -0.0257,  0.0200, -0.6259,  0.9008, -0.7606, -0.1396, -0.2330,  0.5279,\n",
       "          -0.1031,  0.0723, -0.4014, -0.4414,  0.3841,  0.7142,  0.5647,  0.7405,\n",
       "          -0.4087,  0.5378,  0.6338, -0.1180, -0.2565, -0.5388, -0.3857, -0.2164,\n",
       "           0.1749, -0.1885,  0.3522, -0.7463, -0.0220, -0.3722, -0.0482,  0.3481,\n",
       "           0.3560,  0.4149,  0.4798, -0.1230, -0.6792, -0.1485, -0.1681,  0.2314],\n",
       "         [-0.3201, -0.4078, -0.7353,  0.0162, -0.0779, -0.6779,  0.5951, -0.3134,\n",
       "           0.2473,  0.1750,  0.3274,  0.1828,  0.0817,  0.2562,  0.5543,  0.0097,\n",
       "           0.0569,  0.0370,  0.3446, -0.0145,  0.0875,  0.2173, -0.0862, -0.1718,\n",
       "          -0.0256,  0.0200, -0.6259,  0.9009, -0.7606, -0.1395, -0.2330,  0.5279,\n",
       "          -0.1032,  0.0723, -0.4014, -0.4414,  0.3841,  0.7142,  0.5647,  0.7406,\n",
       "          -0.4087,  0.5378,  0.6338, -0.1180, -0.2565, -0.5388, -0.3858, -0.2164,\n",
       "           0.1750, -0.1885,  0.3522, -0.7463, -0.0220, -0.3722, -0.0482,  0.3481,\n",
       "           0.3560,  0.4149,  0.4798, -0.1230, -0.6792, -0.1485, -0.1681,  0.2315]],\n",
       "        grad_fn=<SliceBackward>),\n",
       " tensor([[-0.0602, -0.1614, -0.1872,  0.0047,  0.1639, -0.2609,  0.0868, -0.3162,\n",
       "          -0.0608, -0.5538,  0.5371, -0.1675, -0.0192,  0.2835,  0.1711, -0.0209,\n",
       "           1.0436, -0.2888,  0.2326, -0.3469, -0.3287, -0.8941, -0.3110, -0.5217,\n",
       "          -1.0332, -0.1910, -0.4798,  0.6763, -0.9237,  0.3360,  0.8597, -0.5890,\n",
       "          -0.5490, -0.2344,  0.3610, -0.1283,  0.6646,  0.5567, -0.2618,  1.3579,\n",
       "          -1.0297,  0.5362,  0.5103, -0.1177, -0.0572,  0.2174, -0.2174, -0.6062,\n",
       "           0.4625,  0.3003, -0.0599, -0.5116,  0.1441, -0.5170,  0.2629, -0.1509,\n",
       "           0.0107,  0.2439,  0.0111, -0.0524, -0.5246,  0.6315,  0.5078, -0.0062],\n",
       "         [-0.2776, -0.6286, -0.8880, -0.1235, -0.1739, -0.6838,  0.8585, -0.2829,\n",
       "           0.5999,  0.1722,  0.5517,  0.3209, -0.0623,  0.2560,  0.6898, -0.1301,\n",
       "           0.0506, -0.2240,  0.4143,  0.0774,  0.1901,  0.0949, -0.1920, -0.3187,\n",
       "           0.0102,  0.1020, -0.7285,  1.2069, -0.7696, -0.1754, -0.3518,  0.8449,\n",
       "           0.0104,  0.1989, -0.5832, -0.5054,  0.5738,  1.0671,  0.7946,  1.0258,\n",
       "          -0.6587,  0.9568,  0.7685, -0.0483, -0.2363, -0.6382, -0.5404, -0.2019,\n",
       "           0.2442, -0.2063,  0.6098, -0.8987,  0.0931, -0.5927,  0.0454,  0.4666,\n",
       "           0.4556,  0.2815,  0.4660, -0.1742, -0.6898, -0.0637, -0.4417,  0.5284],\n",
       "         [-0.2776, -0.6286, -0.8880, -0.1235, -0.1739, -0.6838,  0.8586, -0.2829,\n",
       "           0.5999,  0.1722,  0.5517,  0.3209, -0.0623,  0.2560,  0.6899, -0.1302,\n",
       "           0.0505, -0.2239,  0.4144,  0.0774,  0.1901,  0.0950, -0.1920, -0.3187,\n",
       "           0.0103,  0.1020, -0.7285,  1.2069, -0.7696, -0.1754, -0.3518,  0.8449,\n",
       "           0.0104,  0.1990, -0.5833, -0.5054,  0.5738,  1.0671,  0.7946,  1.0258,\n",
       "          -0.6587,  0.9569,  0.7685, -0.0483, -0.2363, -0.6383, -0.5404, -0.2019,\n",
       "           0.2442, -0.2063,  0.6098, -0.8987,  0.0931, -0.5927,  0.0454,  0.4666,\n",
       "           0.4556,  0.2815,  0.4660, -0.1743, -0.6897, -0.0637, -0.4417,  0.5284]],\n",
       "        grad_fn=<SliceBackward>),\n",
       " tensor([[ 0.2234, -0.2801, -0.6588,  0.1357, -0.0365, -0.5728,  0.2736, -0.4576,\n",
       "           0.2445, -0.0845,  0.7809, -0.1210,  0.0516, -0.0022,  0.5677,  0.2629,\n",
       "           0.3064, -0.2003,  0.4162, -0.3476, -0.0933, -0.5059, -0.0429, -0.4517,\n",
       "          -0.4041, -0.1046, -1.0624,  1.3731, -0.5266,  0.3064,  0.6452, -0.1860,\n",
       "          -0.5395, -0.2744,  0.0855, -0.2168,  0.7121,  0.6901,  0.4171,  1.3047,\n",
       "          -0.6343,  0.6078,  0.5323, -0.1308, -0.3753, -0.1712, -0.3524, -0.7530,\n",
       "           0.9881,  0.1729,  0.4059, -0.5904,  0.2959, -0.6245,  0.1055,  0.1811,\n",
       "          -0.0026,  0.4077,  0.6735, -0.1856, -0.5911,  0.2248,  0.3969,  0.2677],\n",
       "         [ 0.2234, -0.2801, -0.6588,  0.1357, -0.0365, -0.5728,  0.2736, -0.4576,\n",
       "           0.2445, -0.0845,  0.7809, -0.1210,  0.0516, -0.0022,  0.5677,  0.2629,\n",
       "           0.3064, -0.2003,  0.4162, -0.3476, -0.0933, -0.5059, -0.0429, -0.4517,\n",
       "          -0.4041, -0.1046, -1.0624,  1.3731, -0.5266,  0.3064,  0.6452, -0.1860,\n",
       "          -0.5395, -0.2744,  0.0855, -0.2168,  0.7121,  0.6901,  0.4171,  1.3047,\n",
       "          -0.6343,  0.6078,  0.5323, -0.1308, -0.3753, -0.1712, -0.3524, -0.7530,\n",
       "           0.9881,  0.1729,  0.4059, -0.5904,  0.2959, -0.6245,  0.1055,  0.1811,\n",
       "          -0.0026,  0.4077,  0.6735, -0.1856, -0.5911,  0.2248,  0.3969,  0.2677],\n",
       "         [-0.2106, -0.5946, -1.8069, -0.3945, -0.2987, -1.0855,  0.9438, -0.8478,\n",
       "           0.6389,  0.1473,  0.2193,  0.2948,  0.0366,  0.3854,  1.2563, -0.1687,\n",
       "          -0.4009,  0.3267,  0.5331,  0.1771,  0.3133,  0.4660, -0.1506,  0.2513,\n",
       "           0.3502,  0.0280, -1.1918,  1.9280, -0.6986, -0.0632, -0.0213,  0.7142,\n",
       "           0.0743,  0.1464, -0.8030, -0.6825,  0.6898,  1.1625,  1.1465,  1.2865,\n",
       "          -0.4512,  0.6850,  0.3200,  0.0435, -0.4202, -0.8843, -1.0372, -0.1988,\n",
       "           0.9112, -0.0424,  0.7637, -0.9852,  0.2875, -1.1538, -0.5277,  1.1200,\n",
       "           0.4684,  0.6190,  1.0874, -0.2971, -1.2489, -0.2027, -0.3548,  0.7732],\n",
       "         [-0.2106, -0.5946, -1.8069, -0.3945, -0.2987, -1.0855,  0.9438, -0.8478,\n",
       "           0.6389,  0.1473,  0.2193,  0.2948,  0.0366,  0.3854,  1.2563, -0.1687,\n",
       "          -0.4009,  0.3267,  0.5331,  0.1771,  0.3133,  0.4660, -0.1506,  0.2513,\n",
       "           0.3502,  0.0280, -1.1918,  1.9280, -0.6986, -0.0632, -0.0213,  0.7142,\n",
       "           0.0743,  0.1464, -0.8030, -0.6825,  0.6898,  1.1625,  1.1465,  1.2865,\n",
       "          -0.4512,  0.6850,  0.3200,  0.0435, -0.4202, -0.8843, -1.0372, -0.1988,\n",
       "           0.9112, -0.0424,  0.7637, -0.9852,  0.2875, -1.1538, -0.5277,  1.1200,\n",
       "           0.4684,  0.6190,  1.0874, -0.2971, -1.2489, -0.2027, -0.3548,  0.7732]],\n",
       "        grad_fn=<SliceBackward>),\n",
       " tensor([[ 6.8138e-01, -3.6201e-01, -5.4977e-01,  2.6267e-01,  1.3315e-01,\n",
       "          -4.4826e-01,  6.1242e-02, -4.9735e-01,  3.3008e-01, -5.2552e-02,\n",
       "           1.0966e+00, -1.4470e-01,  3.6053e-03,  2.1172e-01,  5.6761e-01,\n",
       "           5.4692e-01, -3.7260e-02, -3.5079e-01,  3.2493e-01, -1.1515e-02,\n",
       "           4.5831e-01, -7.4616e-01, -3.5849e-01, -1.0600e-01, -2.5250e-01,\n",
       "          -1.9895e-01, -1.6063e+00,  1.7842e+00, -2.6211e-01,  3.6901e-01,\n",
       "           6.2471e-01,  3.7557e-02, -4.0968e-01,  5.2788e-03,  3.6118e-01,\n",
       "          -8.8104e-02,  7.2113e-01,  8.7919e-01,  7.8825e-01,  1.4179e+00,\n",
       "          -7.1839e-01,  8.0490e-01,  7.4319e-01,  1.1924e-01, -3.8067e-01,\n",
       "           1.0828e-01, -1.7492e-01, -7.6871e-01,  1.0482e+00,  8.5180e-02,\n",
       "           9.9407e-01, -4.4319e-01,  5.5562e-01, -9.4526e-01,  2.3394e-02,\n",
       "           1.4694e-01, -8.5155e-02,  3.5973e-01,  5.6914e-01, -1.1352e-01,\n",
       "          -5.1443e-01,  4.7032e-01,  1.4875e-01,  5.6765e-01],\n",
       "         [ 5.2141e-01, -3.8931e-01, -9.0643e-01, -6.6819e-02, -9.2681e-02,\n",
       "          -7.7200e-01,  5.1045e-01, -3.4669e-01,  5.0406e-01, -6.2822e-03,\n",
       "           1.0546e+00, -1.6893e-02,  4.6412e-02,  3.5056e-02,  8.3924e-01,\n",
       "           3.4161e-01,  6.7049e-02, -2.4401e-01,  6.6365e-01, -9.5825e-02,\n",
       "          -4.8814e-02, -6.7305e-01,  1.4142e-01, -4.9215e-01, -2.2733e-01,\n",
       "          -1.1318e-01, -1.1750e+00,  1.8886e+00, -4.0203e-01,  4.7131e-01,\n",
       "           8.9766e-01,  1.4792e-02, -6.8550e-01, -2.5795e-01,  1.3464e-01,\n",
       "          -2.0335e-01,  8.3906e-01,  7.0430e-01,  4.8062e-01,  1.4674e+00,\n",
       "          -7.1071e-01,  7.7149e-01,  6.5931e-01, -2.1141e-01, -5.0804e-01,\n",
       "          -3.5664e-01, -5.1601e-01, -9.1396e-01,  1.3507e+00,  8.5844e-02,\n",
       "           6.8133e-01, -5.9639e-01,  6.2254e-01, -1.0436e+00,  4.0657e-02,\n",
       "           4.4117e-01,  1.0379e-01,  3.3759e-01,  7.5870e-01, -1.9775e-01,\n",
       "          -6.8813e-01,  2.0513e-01,  5.4545e-01,  1.8565e-01],\n",
       "         [ 6.8378e-02, -8.6740e-01, -2.2046e+00, -5.3970e-01, -8.2786e-02,\n",
       "          -1.0769e+00,  1.0008e+00, -1.1341e+00,  8.7696e-01,  1.2310e-01,\n",
       "           1.4747e-01,  1.5042e-01,  5.4538e-02,  5.6356e-01,  1.8245e+00,\n",
       "          -3.4527e-01, -4.9728e-01,  4.9498e-01,  3.4662e-01,  9.4180e-01,\n",
       "           8.6825e-01,  1.3374e-01, -5.5000e-01,  9.6098e-01,  7.8983e-01,\n",
       "          -2.9776e-01, -1.6465e+00,  2.6745e+00, -4.3021e-01, -2.3572e-01,\n",
       "          -3.9378e-02,  1.1114e+00,  5.2239e-01,  5.5110e-01, -6.2816e-01,\n",
       "          -7.9798e-01,  7.8349e-01,  1.9018e+00,  1.8651e+00,  1.5200e+00,\n",
       "          -8.1627e-01,  9.0664e-01,  5.2691e-01,  6.3073e-01, -4.1752e-01,\n",
       "          -8.7976e-01, -1.1913e+00, -2.1525e-03,  1.1234e+00,  2.5727e-02,\n",
       "           1.5438e+00, -1.2021e+00,  5.6697e-01, -2.0564e+00, -6.8324e-01,\n",
       "           1.3559e+00,  5.0474e-01,  6.6849e-01,  6.3324e-01, -3.1184e-01,\n",
       "          -1.3482e+00, -1.6187e-01, -9.4345e-01,  1.5716e+00]],\n",
       "        grad_fn=<SliceBackward>),\n",
       " tensor([[ 0.1537, -0.4113, -1.1082,  0.2402,  0.0268,  0.0429,  0.1143, -0.5753,\n",
       "           0.1606, -0.4429,  0.6105, -0.3001, -0.1254,  0.0919,  0.4573, -0.0101,\n",
       "           0.5817, -0.2270,  0.1711, -0.0745,  0.1428, -0.9810, -0.2781, -0.1723,\n",
       "          -0.1472,  0.1769, -0.8712,  1.4787, -0.5227,  0.3506,  0.6988,  0.2176,\n",
       "          -0.4838,  0.1221,  0.2430,  0.1627,  0.8074,  0.7451,  0.2256,  1.5358,\n",
       "          -0.9974,  0.3937,  0.4453, -0.1250, -0.7239, -0.0155, -0.3448, -0.5070,\n",
       "           0.6185,  0.4644,  0.4155, -0.6200,  0.0662, -0.5374,  0.5485,  0.4579,\n",
       "          -0.2798,  0.3266,  0.8644, -0.3864, -0.3647,  0.3009,  0.4255,  0.6344],\n",
       "         [ 0.1146, -0.4154, -1.2276, -0.2525, -0.0073, -0.1060,  0.6970, -0.2753,\n",
       "           0.2271, -0.3812,  0.5080, -0.1172, -0.0180,  0.1676,  0.5328, -0.1216,\n",
       "           0.8102, -0.0873,  0.3525, -0.1982, -0.1999, -1.0432,  0.0232, -0.4093,\n",
       "          -0.4132, -0.0266, -0.5424,  1.5576, -0.8190,  0.5773,  0.9598, -0.0066,\n",
       "          -0.5806, -0.0950,  0.1545,  0.0959,  0.7430,  0.6552, -0.0967,  1.4419,\n",
       "          -0.8683,  0.1485,  0.4013, -0.2919, -0.6605, -0.1230, -0.4396, -0.6697,\n",
       "           0.9512,  0.2762,  0.1832, -0.6876,  0.2948, -0.7398,  0.4145,  0.6876,\n",
       "          -0.2269,  0.2891,  0.6730, -0.3049, -0.7583,  0.2928,  0.8510,  0.0917],\n",
       "         [-0.2061, -0.6367, -1.6800, -0.5182, -0.2855, -0.8662,  0.8551, -0.9354,\n",
       "           0.7262,  0.1171,  0.2896,  0.1814,  0.1509,  0.4885,  1.4387, -0.2798,\n",
       "          -0.2788,  0.3232,  0.4108,  0.4191,  0.5341,  0.1722, -0.1649,  0.3382,\n",
       "           0.5134,  0.0244, -1.3169,  1.9506, -0.5565, -0.0556,  0.0864,  0.8524,\n",
       "           0.1608,  0.2977, -0.6157, -0.6481,  0.7022,  1.3414,  1.2633,  1.2852,\n",
       "          -0.6638,  0.8486,  0.4589,  0.2630, -0.3693, -0.7932, -1.0380, -0.1438,\n",
       "           0.9574, -0.0356,  0.7444, -1.0910,  0.2777, -1.4260, -0.3388,  1.1171,\n",
       "           0.4398,  0.6568,  0.8716, -0.2338, -0.9077, -0.3137, -0.5018,  1.0841],\n",
       "         [-0.2061, -0.6367, -1.6799, -0.5182, -0.2854, -0.8662,  0.8551, -0.9354,\n",
       "           0.7261,  0.1171,  0.2896,  0.1813,  0.1510,  0.4885,  1.4387, -0.2798,\n",
       "          -0.2788,  0.3232,  0.4108,  0.4191,  0.5341,  0.1722, -0.1649,  0.3382,\n",
       "           0.5134,  0.0244, -1.3168,  1.9505, -0.5565, -0.0556,  0.0864,  0.8524,\n",
       "           0.1608,  0.2977, -0.6156, -0.6481,  0.7022,  1.3414,  1.2633,  1.2852,\n",
       "          -0.6638,  0.8486,  0.4590,  0.2630, -0.3693, -0.7932, -1.0380, -0.1438,\n",
       "           0.9574, -0.0356,  0.7444, -1.0910,  0.2776, -1.4260, -0.3388,  1.1170,\n",
       "           0.4398,  0.6568,  0.8716, -0.2338, -0.9077, -0.3137, -0.5018,  1.0841]],\n",
       "        grad_fn=<SliceBackward>),\n",
       " tensor([[-0.2462, -0.2243, -0.5402,  0.2833, -0.0151, -0.6114,  0.3085, -0.6209,\n",
       "          -0.0967, -0.4420,  0.4102, -0.1233, -0.0246,  0.0218,  0.5126, -0.0761,\n",
       "           0.7359, -0.0488,  0.2271, -0.5168, -0.2630, -0.3957, -0.2652, -0.4539,\n",
       "          -0.6850, -0.0332, -0.7024,  1.0173, -0.9940,  0.2074,  0.5009, -0.1969,\n",
       "          -0.5691, -0.3115, -0.0620, -0.4312,  0.6857,  0.8067,  0.1528,  1.2571,\n",
       "          -0.7474,  0.6086,  0.5492, -0.2345, -0.2796, -0.2786, -0.3803, -0.5712,\n",
       "           0.5660,  0.4158, -0.0221, -0.6320,  0.0450, -0.4079,  0.1968,  0.1040,\n",
       "           0.1284,  0.5708,  0.4635, -0.2028, -0.6370,  0.2237,  0.1902,  0.1678],\n",
       "         [-0.2462, -0.2243, -0.5402,  0.2833, -0.0151, -0.6114,  0.3085, -0.6209,\n",
       "          -0.0967, -0.4420,  0.4102, -0.1233, -0.0246,  0.0218,  0.5126, -0.0761,\n",
       "           0.7359, -0.0488,  0.2271, -0.5168, -0.2630, -0.3957, -0.2652, -0.4539,\n",
       "          -0.6850, -0.0332, -0.7024,  1.0173, -0.9940,  0.2074,  0.5009, -0.1969,\n",
       "          -0.5691, -0.3115, -0.0620, -0.4312,  0.6857,  0.8067,  0.1528,  1.2571,\n",
       "          -0.7474,  0.6086,  0.5492, -0.2345, -0.2796, -0.2786, -0.3803, -0.5712,\n",
       "           0.5660,  0.4158, -0.0221, -0.6320,  0.0450, -0.4079,  0.1968,  0.1040,\n",
       "           0.1284,  0.5708,  0.4635, -0.2028, -0.6370,  0.2237,  0.1902,  0.1678],\n",
       "         [-0.4579, -0.3611, -1.1808, -0.2005, -0.2366, -0.8549,  0.6654, -0.5793,\n",
       "           0.2169,  0.1774,  0.1318,  0.1653,  0.1487,  0.3177,  0.7451, -0.0593,\n",
       "          -0.1931,  0.3082,  0.4270, -0.2170,  0.0366,  0.4793,  0.0874, -0.0915,\n",
       "           0.0444,  0.1017, -0.8501,  1.1238, -0.8327,  0.0482,  0.0642,  0.4120,\n",
       "          -0.2004, -0.0848, -0.5471, -0.4609,  0.4123,  0.6290,  0.5564,  0.7542,\n",
       "          -0.2051,  0.3843,  0.4149, -0.1194, -0.2961, -0.6112, -0.6381, -0.2211,\n",
       "           0.5926, -0.1294,  0.1196, -0.7632,  0.0503, -0.4931, -0.2953,  0.7521,\n",
       "           0.3368,  0.6400,  0.9561, -0.1074, -0.8430, -0.3106, -0.0392,  0.1875],\n",
       "         [-0.4579, -0.3611, -1.1808, -0.2005, -0.2366, -0.8549,  0.6654, -0.5793,\n",
       "           0.2169,  0.1774,  0.1318,  0.1653,  0.1487,  0.3177,  0.7451, -0.0593,\n",
       "          -0.1931,  0.3082,  0.4270, -0.2170,  0.0366,  0.4793,  0.0874, -0.0915,\n",
       "           0.0444,  0.1017, -0.8501,  1.1238, -0.8327,  0.0482,  0.0642,  0.4120,\n",
       "          -0.2004, -0.0848, -0.5471, -0.4609,  0.4123,  0.6290,  0.5564,  0.7542,\n",
       "          -0.2051,  0.3843,  0.4149, -0.1194, -0.2961, -0.6112, -0.6381, -0.2211,\n",
       "           0.5926, -0.1294,  0.1196, -0.7632,  0.0503, -0.4931, -0.2953,  0.7521,\n",
       "           0.3368,  0.6400,  0.9561, -0.1074, -0.8430, -0.3106, -0.0392,  0.1875],\n",
       "         [-0.4579, -0.3611, -1.1808, -0.2005, -0.2366, -0.8550,  0.6654, -0.5793,\n",
       "           0.2169,  0.1774,  0.1318,  0.1653,  0.1487,  0.3177,  0.7451, -0.0593,\n",
       "          -0.1931,  0.3083,  0.4270, -0.2170,  0.0366,  0.4794,  0.0873, -0.0915,\n",
       "           0.0444,  0.1017, -0.8501,  1.1238, -0.8327,  0.0482,  0.0642,  0.4120,\n",
       "          -0.2004, -0.0848, -0.5471, -0.4609,  0.4123,  0.6291,  0.5564,  0.7542,\n",
       "          -0.2051,  0.3843,  0.4149, -0.1194, -0.2961, -0.6112, -0.6381, -0.2211,\n",
       "           0.5926, -0.1293,  0.1196, -0.7632,  0.0503, -0.4931, -0.2953,  0.7521,\n",
       "           0.3368,  0.6401,  0.9561, -0.1074, -0.8430, -0.3106, -0.0392,  0.1875],\n",
       "         [-0.4579, -0.3611, -1.1808, -0.2005, -0.2366, -0.8549,  0.6654, -0.5793,\n",
       "           0.2169,  0.1774,  0.1318,  0.1653,  0.1487,  0.3177,  0.7451, -0.0593,\n",
       "          -0.1931,  0.3082,  0.4270, -0.2170,  0.0366,  0.4793,  0.0874, -0.0915,\n",
       "           0.0444,  0.1017, -0.8501,  1.1238, -0.8327,  0.0482,  0.0642,  0.4120,\n",
       "          -0.2004, -0.0848, -0.5471, -0.4609,  0.4123,  0.6290,  0.5564,  0.7542,\n",
       "          -0.2051,  0.3843,  0.4149, -0.1194, -0.2961, -0.6112, -0.6381, -0.2211,\n",
       "           0.5926, -0.1294,  0.1196, -0.7632,  0.0503, -0.4931, -0.2953,  0.7521,\n",
       "           0.3368,  0.6400,  0.9561, -0.1074, -0.8430, -0.3106, -0.0392,  0.1875],\n",
       "         [-0.4579, -0.3611, -1.1808, -0.2005, -0.2366, -0.8549,  0.6654, -0.5793,\n",
       "           0.2169,  0.1774,  0.1318,  0.1653,  0.1487,  0.3177,  0.7451, -0.0593,\n",
       "          -0.1931,  0.3082,  0.4270, -0.2170,  0.0366,  0.4793,  0.0874, -0.0915,\n",
       "           0.0444,  0.1017, -0.8501,  1.1238, -0.8327,  0.0482,  0.0642,  0.4120,\n",
       "          -0.2004, -0.0848, -0.5471, -0.4609,  0.4123,  0.6290,  0.5564,  0.7542,\n",
       "          -0.2051,  0.3843,  0.4149, -0.1194, -0.2961, -0.6112, -0.6381, -0.2211,\n",
       "           0.5926, -0.1294,  0.1196, -0.7632,  0.0503, -0.4931, -0.2953,  0.7521,\n",
       "           0.3368,  0.6400,  0.9561, -0.1074, -0.8430, -0.3106, -0.0392,  0.1875],\n",
       "         [-0.4579, -0.3611, -1.1808, -0.2005, -0.2366, -0.8550,  0.6654, -0.5793,\n",
       "           0.2169,  0.1774,  0.1318,  0.1653,  0.1487,  0.3177,  0.7451, -0.0593,\n",
       "          -0.1931,  0.3083,  0.4270, -0.2170,  0.0366,  0.4794,  0.0873, -0.0915,\n",
       "           0.0444,  0.1017, -0.8501,  1.1238, -0.8327,  0.0482,  0.0642,  0.4120,\n",
       "          -0.2004, -0.0848, -0.5471, -0.4609,  0.4123,  0.6291,  0.5564,  0.7542,\n",
       "          -0.2051,  0.3843,  0.4149, -0.1194, -0.2961, -0.6112, -0.6381, -0.2211,\n",
       "           0.5926, -0.1293,  0.1196, -0.7632,  0.0503, -0.4931, -0.2953,  0.7521,\n",
       "           0.3368,  0.6401,  0.9561, -0.1074, -0.8430, -0.3106, -0.0392,  0.1875]],\n",
       "        grad_fn=<SliceBackward>),\n",
       " tensor([[-2.0490e-01, -3.4836e-01, -5.6340e-01,  2.5813e-01, -2.3148e-02,\n",
       "          -4.9151e-01,  3.0179e-01, -6.7124e-01,  1.0068e-01, -5.2508e-01,\n",
       "           5.1392e-01, -1.0496e-01, -9.5133e-02,  6.9520e-02,  5.8802e-01,\n",
       "          -7.7064e-02,  7.4857e-01, -1.3060e-01,  2.0004e-01, -3.7049e-01,\n",
       "          -7.0158e-02, -5.6085e-01, -4.3429e-01, -4.4208e-01, -5.7631e-01,\n",
       "          -1.7347e-02, -7.9470e-01,  1.0785e+00, -9.8059e-01,  1.6907e-01,\n",
       "           4.4782e-01, -1.1517e-01, -4.4345e-01, -1.5949e-01, -4.6438e-03,\n",
       "          -4.1393e-01,  7.3753e-01,  1.0172e+00,  3.4432e-01,  1.4051e+00,\n",
       "          -9.2087e-01,  8.3282e-01,  6.4022e-01, -8.1407e-02, -2.1966e-01,\n",
       "          -2.2719e-01, -4.2137e-01, -5.5465e-01,  5.4428e-01,  3.9938e-01,\n",
       "           2.5843e-01, -6.9016e-01,  1.3767e-01, -5.3427e-01,  2.5616e-01,\n",
       "           2.3937e-02,  1.4856e-01,  4.3127e-01,  3.0050e-01, -2.3398e-01,\n",
       "          -5.3151e-01,  3.0284e-01,  1.0780e-02,  4.1951e-01],\n",
       "         [-1.7168e-01, -3.1451e-01, -6.7304e-01, -1.1914e-01, -4.8680e-02,\n",
       "          -6.7488e-01,  6.4597e-01, -3.1155e-01,  9.2570e-02, -4.3151e-01,\n",
       "           4.5851e-01,  1.6430e-02, -6.7039e-03,  3.7270e-01,  6.1047e-01,\n",
       "          -2.3564e-01,  8.6795e-01, -1.7002e-01,  4.2296e-01, -2.0399e-01,\n",
       "          -3.4759e-01, -7.0115e-01, -1.8309e-01, -5.5417e-01, -8.1365e-01,\n",
       "          -2.1770e-01, -5.3031e-01,  1.2540e+00, -1.0730e+00,  2.9201e-01,\n",
       "           8.1116e-01, -2.2904e-01, -6.0279e-01, -2.6597e-01,  5.8168e-03,\n",
       "          -2.8401e-01,  7.6413e-01,  8.2955e-01, -6.9181e-02,  1.4378e+00,\n",
       "          -9.8497e-01,  5.9451e-01,  5.5794e-01, -2.7365e-01, -1.8152e-01,\n",
       "          -2.8992e-01, -3.7617e-01, -6.3048e-01,  7.4649e-01,  3.1253e-01,\n",
       "           3.2833e-02, -6.9489e-01,  2.0655e-01, -7.6409e-01,  2.3486e-01,\n",
       "           2.9198e-01,  1.3919e-01,  5.1303e-01,  3.1325e-01, -1.1563e-01,\n",
       "          -7.9448e-01,  4.0213e-01,  4.4062e-01,  3.3766e-02],\n",
       "         [-3.3454e-01, -4.4607e-01, -1.3155e+00, -3.5981e-01, -2.4197e-01,\n",
       "          -7.7465e-01,  7.2933e-01, -6.9934e-01,  4.1224e-01,  1.4740e-01,\n",
       "           2.1593e-01,  1.4281e-01,  1.6326e-01,  3.7751e-01,  9.9846e-01,\n",
       "          -1.4342e-01, -2.1904e-01,  3.0606e-01,  4.2930e-01,  3.6718e-02,\n",
       "           3.0139e-01,  3.3333e-01,  6.5859e-04,  7.5468e-02,  2.0751e-01,\n",
       "           4.4664e-02, -9.6746e-01,  1.4018e+00, -6.8425e-01,  1.3462e-02,\n",
       "           7.9790e-02,  5.4451e-01, -9.3647e-02,  5.2575e-02, -5.5678e-01,\n",
       "          -5.1926e-01,  4.7452e-01,  9.2308e-01,  8.1823e-01,  9.2086e-01,\n",
       "          -4.0616e-01,  5.7315e-01,  4.7851e-01,  1.0030e-01, -3.3790e-01,\n",
       "          -6.3011e-01, -8.4166e-01, -1.8439e-01,  7.2074e-01, -8.7474e-02,\n",
       "           3.4139e-01, -9.1164e-01,  1.6054e-01, -8.5905e-01, -2.7740e-01,\n",
       "           8.4799e-01,  3.2950e-01,  6.4832e-01,  8.7095e-01, -1.5991e-01,\n",
       "          -8.0083e-01, -2.9228e-01, -2.5930e-01,  5.7700e-01],\n",
       "         [-3.3451e-01, -4.4606e-01, -1.3154e+00, -3.5980e-01, -2.4197e-01,\n",
       "          -7.7460e-01,  7.2933e-01, -6.9931e-01,  4.1224e-01,  1.4741e-01,\n",
       "           2.1597e-01,  1.4279e-01,  1.6326e-01,  3.7749e-01,  9.9843e-01,\n",
       "          -1.4340e-01, -2.1900e-01,  3.0603e-01,  4.2930e-01,  3.6718e-02,\n",
       "           3.0139e-01,  3.3328e-01,  6.6174e-04,  7.5486e-02,  2.0749e-01,\n",
       "           4.4660e-02, -9.6741e-01,  1.4017e+00, -6.8421e-01,  1.3445e-02,\n",
       "           7.9778e-02,  5.4452e-01, -9.3623e-02,  5.2588e-02, -5.5677e-01,\n",
       "          -5.1925e-01,  4.7452e-01,  9.2304e-01,  8.1821e-01,  9.2084e-01,\n",
       "          -4.0618e-01,  5.7314e-01,  4.7851e-01,  1.0027e-01, -3.3790e-01,\n",
       "          -6.3008e-01, -8.4162e-01, -1.8438e-01,  7.2070e-01, -8.7484e-02,\n",
       "           3.4138e-01, -9.1160e-01,  1.6054e-01, -8.5905e-01, -2.7736e-01,\n",
       "           8.4795e-01,  3.2950e-01,  6.4830e-01,  8.7090e-01, -1.5991e-01,\n",
       "          -8.0080e-01, -2.9226e-01, -2.5927e-01,  5.7699e-01],\n",
       "         [-3.4444e-01, -4.5068e-01, -1.3138e+00, -3.5124e-01, -2.4112e-01,\n",
       "          -7.9396e-01,  7.1516e-01, -6.9488e-01,  3.9601e-01,  1.5226e-01,\n",
       "           1.9822e-01,  1.5377e-01,  1.6105e-01,  3.7625e-01,  9.8288e-01,\n",
       "          -1.3912e-01, -2.2303e-01,  3.1038e-01,  4.2104e-01,  2.2672e-02,\n",
       "           2.8538e-01,  3.4569e-01,  1.0744e-02,  5.7509e-02,  2.0169e-01,\n",
       "           4.7733e-02, -9.8157e-01,  1.3938e+00, -7.0513e-01,  1.8362e-02,\n",
       "           7.3942e-02,  5.3194e-01, -1.1097e-01,  4.2409e-02, -5.4361e-01,\n",
       "          -5.1715e-01,  4.7180e-01,  9.2290e-01,  8.0330e-01,  9.2120e-01,\n",
       "          -4.0053e-01,  5.6758e-01,  4.8408e-01,  1.0472e-01, -3.4203e-01,\n",
       "          -6.2945e-01, -8.4253e-01, -1.8914e-01,  7.1766e-01, -8.7276e-02,\n",
       "           3.4145e-01, -9.1913e-01,  1.5362e-01, -8.4508e-01, -2.8127e-01,\n",
       "           8.4345e-01,  3.2841e-01,  6.4575e-01,  8.8206e-01, -1.5161e-01,\n",
       "          -8.1293e-01, -2.9719e-01, -2.5754e-01,  5.5519e-01],\n",
       "         [-4.2215e-01, -5.4510e-01, -1.2976e+00, -3.1533e-01, -3.0951e-01,\n",
       "          -8.6472e-01,  7.6382e-01, -6.5552e-01,  3.9172e-01,  1.4365e-01,\n",
       "           2.1366e-01,  1.9678e-01,  1.3557e-01,  3.6679e-01,  8.7850e-01,\n",
       "          -6.8082e-02, -2.1682e-01,  2.8888e-01,  4.4106e-01, -1.4689e-01,\n",
       "           2.1826e-01,  3.8464e-01,  2.5769e-02, -7.6204e-02,  1.3184e-01,\n",
       "           1.4601e-01, -1.0364e+00,  1.3447e+00, -8.2116e-01,  2.2774e-02,\n",
       "           4.2805e-02,  5.6940e-01, -8.7044e-02,  2.5228e-02, -5.5415e-01,\n",
       "          -5.0287e-01,  4.8977e-01,  8.1888e-01,  7.2731e-01,  9.2701e-01,\n",
       "          -3.2582e-01,  5.7492e-01,  4.9600e-01, -3.2672e-02, -2.5127e-01,\n",
       "          -6.8046e-01, -6.9703e-01, -2.1766e-01,  7.0224e-01, -1.4704e-01,\n",
       "           3.4417e-01, -8.4592e-01,  1.4191e-01, -6.6099e-01, -2.5001e-01,\n",
       "           7.9754e-01,  3.9656e-01,  5.2384e-01,  9.6178e-01, -1.1169e-01,\n",
       "          -8.7575e-01, -3.0137e-01, -1.4186e-01,  3.7195e-01]],\n",
       "        grad_fn=<SliceBackward>)]"
      ]
     },
     "execution_count": 23,
     "metadata": {},
     "output_type": "execute_result"
    }
   ],
   "source": [
    "bf=Encoder.batch_sequences_features(m, batch)\n",
    "bf"
   ]
  },
  {
   "cell_type": "code",
   "execution_count": 16,
   "id": "6dc37116",
   "metadata": {},
   "outputs": [],
   "source": [
    "from torch.nn.utils.rnn import pad_sequence\n",
    "padded=pad_sequence(bf, batch_first=True)\n"
   ]
  },
  {
   "cell_type": "code",
   "execution_count": 17,
   "id": "00143e78",
   "metadata": {},
   "outputs": [],
   "source": [
    "def pad_collate(batch):\n",
    "    x=[item for item in batch]\n",
    "    x_pad=pad_sequence(x, batch_first=True)\n",
    "    return x_pad"
   ]
  },
  {
   "cell_type": "code",
   "execution_count": 43,
   "id": "0840ff34",
   "metadata": {},
   "outputs": [],
   "source": [
    "padded=pad_collate(bf)"
   ]
  },
  {
   "cell_type": "code",
   "execution_count": 44,
   "id": "64d00873",
   "metadata": {},
   "outputs": [],
   "source": [
    "from PdA import pad_collate_1"
   ]
  },
  {
   "cell_type": "code",
   "execution_count": 45,
   "id": "7fee991a",
   "metadata": {},
   "outputs": [],
   "source": [
    "padded=pad_collate_1(bf)\n",
    "#padded, padded.size()"
   ]
  },
  {
   "cell_type": "code",
   "execution_count": 24,
   "id": "37395b08",
   "metadata": {},
   "outputs": [],
   "source": [
    "def contador(batch):\n",
    "    diccionario={}\n",
    "    for i in batch:\n",
    "        if i.item() not in diccionario:\n",
    "            diccionario[i.item()]=1\n",
    "        else:\n",
    "            diccionario[i.item()]+=1\n",
    "    return diccionario"
   ]
  },
  {
   "cell_type": "code",
   "execution_count": 25,
   "id": "e26f6b6c",
   "metadata": {},
   "outputs": [
    {
     "data": {
      "text/plain": [
       "{0: 5, 1: 4, 2: 3, 3: 4, 4: 3, 5: 4, 6: 8, 7: 6}"
      ]
     },
     "execution_count": 25,
     "metadata": {},
     "output_type": "execute_result"
    }
   ],
   "source": [
    "cuenta=contador(batch)\n",
    "cuenta"
   ]
  },
  {
   "cell_type": "code",
   "execution_count": 26,
   "id": "a50a6ac6",
   "metadata": {},
   "outputs": [
    {
     "data": {
      "text/plain": [
       "8"
      ]
     },
     "execution_count": 26,
     "metadata": {},
     "output_type": "execute_result"
    }
   ],
   "source": [
    "max_key=max(cuenta, key=cuenta.get)\n",
    "cuenta[max_key]"
   ]
  },
  {
   "cell_type": "code",
   "execution_count": 53,
   "id": "d897bb8c",
   "metadata": {},
   "outputs": [
    {
     "data": {
      "text/plain": [
       "tensor([[0., 0., 0., 0., 0., 0., 0., 0., 0., 0., 0., 0., 0., 0., 0., 0., 0., 0., 0., 0., 0., 0., 0., 0.,\n",
       "         0., 0., 0., 0., 0., 0., 0., 0., 0., 0., 0., 0., 0., 0., 0., 0., 0., 0., 0., 0., 0., 0., 0., 0.,\n",
       "         0., 0., 0., 0., 0., 0., 0., 0., 0., 0., 0., 0., 0., 0., 0., 0.],\n",
       "        [0., 0., 0., 0., 0., 0., 0., 0., 0., 0., 0., 0., 0., 0., 0., 0., 0., 0., 0., 0., 0., 0., 0., 0.,\n",
       "         0., 0., 0., 0., 0., 0., 0., 0., 0., 0., 0., 0., 0., 0., 0., 0., 0., 0., 0., 0., 0., 0., 0., 0.,\n",
       "         0., 0., 0., 0., 0., 0., 0., 0., 0., 0., 0., 0., 0., 0., 0., 0.],\n",
       "        [0., 0., 0., 0., 0., 0., 0., 0., 0., 0., 0., 0., 0., 0., 0., 0., 0., 0., 0., 0., 0., 0., 0., 0.,\n",
       "         0., 0., 0., 0., 0., 0., 0., 0., 0., 0., 0., 0., 0., 0., 0., 0., 0., 0., 0., 0., 0., 0., 0., 0.,\n",
       "         0., 0., 0., 0., 0., 0., 0., 0., 0., 0., 0., 0., 0., 0., 0., 0.]])"
      ]
     },
     "execution_count": 53,
     "metadata": {},
     "output_type": "execute_result"
    }
   ],
   "source": [
    "all_zeros=zeros.repeat(3,1)\n",
    "all_zeros"
   ]
  },
  {
   "cell_type": "code",
   "execution_count": 50,
   "id": "bb191880",
   "metadata": {},
   "outputs": [
    {
     "data": {
      "text/plain": [
       "64"
      ]
     },
     "execution_count": 50,
     "metadata": {},
     "output_type": "execute_result"
    }
   ],
   "source": [
    "bf[0].size()[1]"
   ]
  },
  {
   "cell_type": "code",
   "execution_count": 53,
   "id": "af78c234",
   "metadata": {},
   "outputs": [
    {
     "data": {
      "text/plain": [
       "tensor([[0., 0., 0., 0., 0.],\n",
       "        [0., 0., 0., 0., 0.]])"
      ]
     },
     "execution_count": 53,
     "metadata": {},
     "output_type": "execute_result"
    }
   ],
   "source": [
    "torch.zeros(5).repeat(2,1)"
   ]
  },
  {
   "cell_type": "code",
   "execution_count": 27,
   "id": "15f6e51a",
   "metadata": {},
   "outputs": [
    {
     "data": {
      "text/plain": [
       "torch.Size([8, 8, 64])"
      ]
     },
     "execution_count": 27,
     "metadata": {},
     "output_type": "execute_result"
    }
   ],
   "source": [
    "cuenta=cuenta\n",
    "max_key=max(cuenta, key=cuenta.get)\n",
    "cuenta[max_key]\n",
    "dim=64\n",
    "for i,j in enumerate(bf):\n",
    "    dif=cuenta[max_key]-len(j)\n",
    "    #print(dif)\n",
    "    all_zeros=torch.zeros(dim).repeat(dif,1)\n",
    "    bf[i]=torch.cat([bf[i], all_zeros],0)\n",
    "tensor=torch.stack(bf)\n",
    "tensor.size()"
   ]
  },
  {
   "cell_type": "code",
   "execution_count": 87,
   "id": "d2438e4a",
   "metadata": {},
   "outputs": [],
   "source": [
    "#bf[0]=torch.cat([bf[0], torch.zeros(dim).repeat(3,1)])\n",
    "#bf[1].size()"
   ]
  },
  {
   "cell_type": "code",
   "execution_count": 22,
   "id": "c90abc5b",
   "metadata": {},
   "outputs": [],
   "source": [
    "py_tensor=torch.stack(bf)"
   ]
  },
  {
   "cell_type": "code",
   "execution_count": 28,
   "id": "85c48f6e",
   "metadata": {},
   "outputs": [],
   "source": [
    "from FullENcoder import EncoderSelfAttnL\n"
   ]
  },
  {
   "cell_type": "code",
   "execution_count": 29,
   "id": "93b69f11",
   "metadata": {},
   "outputs": [
    {
     "data": {
      "text/plain": [
       "tensor([0, 0, 0, 0, 0, 1, 1, 1, 1, 2, 2, 2, 3, 3, 3, 3, 4, 4, 4, 5, 5, 5, 5, 6,\n",
       "        6, 6, 6, 6, 6, 6, 6, 7, 7, 7, 7, 7, 7])"
      ]
     },
     "execution_count": 29,
     "metadata": {},
     "output_type": "execute_result"
    }
   ],
   "source": [
    "encoder2=EncoderSelfAttnL(n_heads=3, d_model=64, ff_units=10, n_features=64)\n",
    "batch"
   ]
  },
  {
   "cell_type": "code",
   "execution_count": 30,
   "id": "c0061018",
   "metadata": {},
   "outputs": [],
   "source": [
    "bf=encoder2.batch_sequences_features(m, batch)"
   ]
  },
  {
   "cell_type": "code",
   "execution_count": 33,
   "id": "debe8978",
   "metadata": {},
   "outputs": [],
   "source": [
    "query, mask=encoder2.my_padding(bf, batch)"
   ]
  },
  {
   "cell_type": "code",
   "execution_count": 36,
   "id": "fb78e9ef",
   "metadata": {},
   "outputs": [
    {
     "data": {
      "text/plain": [
       "torch.Size([8, 8, 64])"
      ]
     },
     "execution_count": 36,
     "metadata": {},
     "output_type": "execute_result"
    }
   ],
   "source": [
    "query.size()"
   ]
  },
  {
   "cell_type": "code",
   "execution_count": 37,
   "id": "886157ab",
   "metadata": {},
   "outputs": [
    {
     "data": {
      "text/plain": [
       "tensor([[[ True,  True,  True,  True,  True, False, False, False]],\n",
       "\n",
       "        [[ True,  True,  True,  True, False, False, False, False]],\n",
       "\n",
       "        [[ True,  True,  True, False, False, False, False, False]],\n",
       "\n",
       "        [[ True,  True,  True,  True, False, False, False, False]],\n",
       "\n",
       "        [[ True,  True,  True, False, False, False, False, False]],\n",
       "\n",
       "        [[ True,  True,  True,  True, False, False, False, False]],\n",
       "\n",
       "        [[ True,  True,  True,  True,  True,  True,  True,  True]],\n",
       "\n",
       "        [[ True,  True,  True,  True,  True,  True, False, False]]])"
      ]
     },
     "execution_count": 37,
     "metadata": {},
     "output_type": "execute_result"
    }
   ],
   "source": [
    "mask"
   ]
  },
  {
   "cell_type": "code",
   "execution_count": 38,
   "id": "aabccc86",
   "metadata": {},
   "outputs": [
    {
     "data": {
      "text/plain": [
       "tensor([[[-1., -1.],\n",
       "         [-1.,  1.]]])"
      ]
     },
     "execution_count": 38,
     "metadata": {},
     "output_type": "execute_result"
    }
   ],
   "source": [
    "source_seq"
   ]
  },
  {
   "cell_type": "code",
   "execution_count": null,
   "id": "aabd0b52",
   "metadata": {},
   "outputs": [],
   "source": [
    "def get_back(encoded_states,mask):\n",
    "    get_back=[]\n",
    "    for i in range(help1.size()[0]):\n",
    "        for j in range(help1.size()[1]):\n",
    "            if mask[i][0][j]==True:\n",
    "                get_back.append(torch.as_tensor(encoded_states[i][j]).float())\n",
    "                \n",
    "            else:\n",
    "                pass\n",
    "    return get_back"
   ]
  }
 ],
 "metadata": {
  "kernelspec": {
   "display_name": "Python 3",
   "language": "python",
   "name": "python3"
  },
  "language_info": {
   "codemirror_mode": {
    "name": "ipython",
    "version": 3
   },
   "file_extension": ".py",
   "mimetype": "text/x-python",
   "name": "python",
   "nbconvert_exporter": "python",
   "pygments_lexer": "ipython3",
   "version": "3.8.2"
  }
 },
 "nbformat": 4,
 "nbformat_minor": 5
}
